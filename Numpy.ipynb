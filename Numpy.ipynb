{
 "cells": [
  {
   "cell_type": "code",
   "execution_count": 1,
   "id": "2cd94722",
   "metadata": {
    "ExecuteTime": {
     "end_time": "2023-07-23T16:36:07.988009Z",
     "start_time": "2023-07-23T16:36:07.817746Z"
    }
   },
   "outputs": [],
   "source": [
    "import numpy as np"
   ]
  },
  {
   "cell_type": "code",
   "execution_count": 2,
   "id": "ea5ec276",
   "metadata": {
    "ExecuteTime": {
     "end_time": "2023-07-23T16:36:09.851319Z",
     "start_time": "2023-07-23T16:36:09.833711Z"
    }
   },
   "outputs": [
    {
     "data": {
      "text/plain": [
       "array([1, 2, 3])"
      ]
     },
     "execution_count": 2,
     "metadata": {},
     "output_type": "execute_result"
    }
   ],
   "source": [
    "np.array([1,2,3])"
   ]
  },
  {
   "cell_type": "code",
   "execution_count": 3,
   "id": "51ce86ef",
   "metadata": {
    "ExecuteTime": {
     "end_time": "2023-07-23T16:36:12.110573Z",
     "start_time": "2023-07-23T16:36:12.094445Z"
    }
   },
   "outputs": [
    {
     "data": {
      "text/plain": [
       "array([[1, 2, 3],\n",
       "       [4, 5, 6]])"
      ]
     },
     "execution_count": 3,
     "metadata": {},
     "output_type": "execute_result"
    }
   ],
   "source": [
    "np.array([[1,2,3],[4,5,6]])"
   ]
  },
  {
   "cell_type": "code",
   "execution_count": 4,
   "id": "bb3150c7",
   "metadata": {
    "ExecuteTime": {
     "end_time": "2023-07-23T16:36:12.674107Z",
     "start_time": "2023-07-23T16:36:12.656472Z"
    }
   },
   "outputs": [
    {
     "data": {
      "text/plain": [
       "array([[[1, 2],\n",
       "        [3, 4]],\n",
       "\n",
       "       [[1, 2],\n",
       "        [3, 4]]])"
      ]
     },
     "execution_count": 4,
     "metadata": {},
     "output_type": "execute_result"
    }
   ],
   "source": [
    "np.array([[[1,2],[3,4]],[[1,2],[3,4]]])"
   ]
  },
  {
   "cell_type": "code",
   "execution_count": 5,
   "id": "b0001086",
   "metadata": {
    "ExecuteTime": {
     "end_time": "2023-07-23T16:36:14.921627Z",
     "start_time": "2023-07-23T16:36:14.902455Z"
    }
   },
   "outputs": [
    {
     "data": {
      "text/plain": [
       "array([1.+0.j, 2.+0.j, 5.+0.j])"
      ]
     },
     "execution_count": 5,
     "metadata": {},
     "output_type": "execute_result"
    }
   ],
   "source": [
    "np.array([1,2,5], dtype=complex) # or np.array([1,2,5], dtype='complex')"
   ]
  },
  {
   "cell_type": "code",
   "execution_count": 6,
   "id": "794644bc",
   "metadata": {
    "ExecuteTime": {
     "end_time": "2023-07-23T16:36:15.389597Z",
     "start_time": "2023-07-23T16:36:15.366754Z"
    }
   },
   "outputs": [
    {
     "data": {
      "text/plain": [
       "array([ True, False,  True])"
      ]
     },
     "execution_count": 6,
     "metadata": {},
     "output_type": "execute_result"
    }
   ],
   "source": [
    "np.array([1,0,5],dtype=bool) # or np.array([1,0,5],dtype=bool)"
   ]
  },
  {
   "cell_type": "code",
   "execution_count": 7,
   "id": "ded64408",
   "metadata": {
    "ExecuteTime": {
     "end_time": "2023-07-23T16:36:15.854583Z",
     "start_time": "2023-07-23T16:36:15.840286Z"
    }
   },
   "outputs": [
    {
     "data": {
      "text/plain": [
       "array([1., 2., 5.])"
      ]
     },
     "execution_count": 7,
     "metadata": {},
     "output_type": "execute_result"
    }
   ],
   "source": [
    "np.array([1,2,5], dtype=float) # or np.array([1,2,5], dtype=float)"
   ]
  },
  {
   "cell_type": "code",
   "execution_count": 8,
   "id": "08b2ed74",
   "metadata": {
    "ExecuteTime": {
     "end_time": "2023-07-23T16:36:16.959974Z",
     "start_time": "2023-07-23T16:36:16.944517Z"
    }
   },
   "outputs": [
    {
     "data": {
      "text/plain": [
       "array([1, 2, 3, 4, 5, 6, 7, 8, 9])"
      ]
     },
     "execution_count": 8,
     "metadata": {},
     "output_type": "execute_result"
    }
   ],
   "source": [
    "np.arange(1,10)"
   ]
  },
  {
   "cell_type": "code",
   "execution_count": 9,
   "id": "3eb0c2f6",
   "metadata": {
    "ExecuteTime": {
     "end_time": "2023-07-23T16:36:18.419388Z",
     "start_time": "2023-07-23T16:36:18.402128Z"
    }
   },
   "outputs": [
    {
     "data": {
      "text/plain": [
       "array([1, 3, 5, 7, 9])"
      ]
     },
     "execution_count": 9,
     "metadata": {},
     "output_type": "execute_result"
    }
   ],
   "source": [
    "np.arange(1,11,2)"
   ]
  },
  {
   "cell_type": "code",
   "execution_count": 10,
   "id": "5ed1f6ad",
   "metadata": {
    "ExecuteTime": {
     "end_time": "2023-07-23T16:36:19.830507Z",
     "start_time": "2023-07-23T16:36:19.810300Z"
    }
   },
   "outputs": [
    {
     "data": {
      "text/plain": [
       "array([[ 1,  2,  3,  4,  5],\n",
       "       [ 6,  7,  8,  9, 10],\n",
       "       [11, 12, 13, 14, 15]])"
      ]
     },
     "execution_count": 10,
     "metadata": {},
     "output_type": "execute_result"
    }
   ],
   "source": [
    "np.arange(1,16).reshape(3,5)"
   ]
  },
  {
   "cell_type": "code",
   "execution_count": 11,
   "id": "33543932",
   "metadata": {
    "ExecuteTime": {
     "end_time": "2023-07-23T16:36:20.953784Z",
     "start_time": "2023-07-23T16:36:20.942566Z"
    }
   },
   "outputs": [
    {
     "data": {
      "text/plain": [
       "array([[ 1,  3],\n",
       "       [ 5,  7],\n",
       "       [ 9, 11],\n",
       "       [13, 15]])"
      ]
     },
     "execution_count": 11,
     "metadata": {},
     "output_type": "execute_result"
    }
   ],
   "source": [
    "np.arange(1,16,2).reshape(4,2)"
   ]
  },
  {
   "cell_type": "code",
   "execution_count": 12,
   "id": "91ef4718",
   "metadata": {
    "ExecuteTime": {
     "end_time": "2023-07-23T16:36:21.438545Z",
     "start_time": "2023-07-23T16:36:21.416141Z"
    }
   },
   "outputs": [
    {
     "data": {
      "text/plain": [
       "array([[1., 1., 1., 1.],\n",
       "       [1., 1., 1., 1.],\n",
       "       [1., 1., 1., 1.]])"
      ]
     },
     "execution_count": 12,
     "metadata": {},
     "output_type": "execute_result"
    }
   ],
   "source": [
    "np.ones((3,4))"
   ]
  },
  {
   "cell_type": "code",
   "execution_count": 13,
   "id": "1399ef0b",
   "metadata": {
    "ExecuteTime": {
     "end_time": "2023-07-23T16:36:23.886580Z",
     "start_time": "2023-07-23T16:36:23.868382Z"
    }
   },
   "outputs": [
    {
     "data": {
      "text/plain": [
       "array([[[0., 0.],\n",
       "        [0., 0.]],\n",
       "\n",
       "       [[0., 0.],\n",
       "        [0., 0.]]])"
      ]
     },
     "execution_count": 13,
     "metadata": {},
     "output_type": "execute_result"
    }
   ],
   "source": [
    "np.zeros((2,2,2))"
   ]
  },
  {
   "cell_type": "code",
   "execution_count": 14,
   "id": "9a907f0d",
   "metadata": {
    "ExecuteTime": {
     "end_time": "2023-07-23T16:36:24.196979Z",
     "start_time": "2023-07-23T16:36:24.185329Z"
    }
   },
   "outputs": [
    {
     "data": {
      "text/plain": [
       "array([[0.36564891, 0.48371943, 0.06676885, 0.46902594],\n",
       "       [0.16638672, 0.2295524 , 0.44582849, 0.55648546],\n",
       "       [0.95809969, 0.31228548, 0.6895472 , 0.00981866]])"
      ]
     },
     "execution_count": 14,
     "metadata": {},
     "output_type": "execute_result"
    }
   ],
   "source": [
    "np.random.random((3,4))"
   ]
  },
  {
   "cell_type": "code",
   "execution_count": 15,
   "id": "7c02d40b",
   "metadata": {
    "ExecuteTime": {
     "end_time": "2023-07-23T16:36:24.680459Z",
     "start_time": "2023-07-23T16:36:24.666938Z"
    }
   },
   "outputs": [
    {
     "data": {
      "text/plain": [
       "array([ 1.        ,  3.11111111,  5.22222222,  7.33333333,  9.44444444,\n",
       "       11.55555556, 13.66666667, 15.77777778, 17.88888889, 20.        ])"
      ]
     },
     "execution_count": 15,
     "metadata": {},
     "output_type": "execute_result"
    }
   ],
   "source": [
    "#linear space\n",
    "np.linspace(1,20,10)"
   ]
  },
  {
   "cell_type": "code",
   "execution_count": 16,
   "id": "4042156d",
   "metadata": {
    "ExecuteTime": {
     "end_time": "2023-07-23T16:36:24.930403Z",
     "start_time": "2023-07-23T16:36:24.916871Z"
    }
   },
   "outputs": [
    {
     "data": {
      "text/plain": [
       "array([[1., 0., 0.],\n",
       "       [0., 1., 0.],\n",
       "       [0., 0., 1.]])"
      ]
     },
     "execution_count": 16,
     "metadata": {},
     "output_type": "execute_result"
    }
   ],
   "source": [
    "np.identity(3)"
   ]
  },
  {
   "cell_type": "code",
   "execution_count": 17,
   "id": "1ee79757",
   "metadata": {
    "ExecuteTime": {
     "end_time": "2023-07-23T16:36:25.550729Z",
     "start_time": "2023-07-23T16:36:25.537566Z"
    }
   },
   "outputs": [
    {
     "data": {
      "text/plain": [
       "array([ 1.        +0.j,  3.11111111+0.j,  5.22222222+0.j,  7.33333333+0.j,\n",
       "        9.44444444+0.j, 11.55555556+0.j, 13.66666667+0.j, 15.77777778+0.j,\n",
       "       17.88888889+0.j, 20.        +0.j])"
      ]
     },
     "execution_count": 17,
     "metadata": {},
     "output_type": "execute_result"
    }
   ],
   "source": [
    "np.linspace(1,20,10,dtype=complex)"
   ]
  },
  {
   "cell_type": "code",
   "execution_count": 18,
   "id": "bf9d9a9f",
   "metadata": {
    "ExecuteTime": {
     "end_time": "2023-07-23T16:36:25.767048Z",
     "start_time": "2023-07-23T16:36:25.756449Z"
    }
   },
   "outputs": [
    {
     "data": {
      "text/plain": [
       "array([[1.+0.j, 0.+0.j, 0.+0.j],\n",
       "       [0.+0.j, 1.+0.j, 0.+0.j],\n",
       "       [0.+0.j, 0.+0.j, 1.+0.j]])"
      ]
     },
     "execution_count": 18,
     "metadata": {},
     "output_type": "execute_result"
    }
   ],
   "source": [
    "np.identity(3,dtype=complex)"
   ]
  },
  {
   "cell_type": "code",
   "execution_count": 19,
   "id": "b48dd111",
   "metadata": {
    "ExecuteTime": {
     "end_time": "2023-07-23T16:36:26.295508Z",
     "start_time": "2023-07-23T16:36:26.268712Z"
    }
   },
   "outputs": [
    {
     "data": {
      "text/plain": [
       "array([[[[ 0,  1],\n",
       "         [ 2,  3]],\n",
       "\n",
       "        [[ 4,  5],\n",
       "         [ 6,  7]]],\n",
       "\n",
       "\n",
       "       [[[ 8,  9],\n",
       "         [10, 11]],\n",
       "\n",
       "        [[12, 13],\n",
       "         [14, 15]]]])"
      ]
     },
     "execution_count": 19,
     "metadata": {},
     "output_type": "execute_result"
    }
   ],
   "source": [
    "np.arange(16).reshape(2,2,2,2)"
   ]
  },
  {
   "cell_type": "code",
   "execution_count": 20,
   "id": "da130323",
   "metadata": {
    "ExecuteTime": {
     "end_time": "2023-07-23T16:36:26.310589Z",
     "start_time": "2023-07-23T16:36:26.297511Z"
    }
   },
   "outputs": [
    {
     "name": "stdout",
     "output_type": "stream",
     "text": [
      "1\n",
      "2\n",
      "3\n"
     ]
    }
   ],
   "source": [
    "a1=np.array([1,2,3])\n",
    "a2=np.array([[1,2,3],[4,5,6]])\n",
    "a3=np.array([[[1,2],[3,4]],[[2,2],[3,4]]])\n",
    "print(a1.ndim)\n",
    "print(a2.ndim)\n",
    "print(a3.ndim)"
   ]
  },
  {
   "cell_type": "code",
   "execution_count": 21,
   "id": "27fd8499",
   "metadata": {
    "ExecuteTime": {
     "end_time": "2023-07-23T16:36:26.358617Z",
     "start_time": "2023-07-23T16:36:26.336622Z"
    }
   },
   "outputs": [
    {
     "name": "stdout",
     "output_type": "stream",
     "text": [
      "8\n"
     ]
    },
    {
     "data": {
      "text/plain": [
       "4"
      ]
     },
     "execution_count": 21,
     "metadata": {},
     "output_type": "execute_result"
    }
   ],
   "source": [
    "a4=np.array([1,2,4,5],dtype=np.int64)\n",
    "print(a4.itemsize)\n",
    "a2.itemsize"
   ]
  },
  {
   "cell_type": "code",
   "execution_count": 22,
   "id": "fd2e8951",
   "metadata": {
    "ExecuteTime": {
     "end_time": "2023-07-23T16:36:26.389494Z",
     "start_time": "2023-07-23T16:36:26.369713Z"
    }
   },
   "outputs": [
    {
     "name": "stdout",
     "output_type": "stream",
     "text": [
      "int32\n",
      "int32\n",
      "int64\n"
     ]
    }
   ],
   "source": [
    "print(a1.dtype)\n",
    "print(a2.dtype)\n",
    "print(a4.dtype)"
   ]
  },
  {
   "cell_type": "code",
   "execution_count": 23,
   "id": "035106d0",
   "metadata": {
    "ExecuteTime": {
     "end_time": "2023-07-23T16:36:26.421354Z",
     "start_time": "2023-07-23T16:36:26.399518Z"
    }
   },
   "outputs": [
    {
     "name": "stdout",
     "output_type": "stream",
     "text": [
      "int32\n"
     ]
    },
    {
     "data": {
      "text/plain": [
       "dtype('int32')"
      ]
     },
     "execution_count": 23,
     "metadata": {},
     "output_type": "execute_result"
    }
   ],
   "source": [
    "#astype basically used to optimize the memory\n",
    "a2.astype(np.int32)\n",
    "print(a1.dtype)\n",
    "a2.dtype"
   ]
  },
  {
   "cell_type": "code",
   "execution_count": 24,
   "id": "6e26732a",
   "metadata": {
    "ExecuteTime": {
     "end_time": "2023-07-23T16:36:26.437011Z",
     "start_time": "2023-07-23T16:36:26.430400Z"
    }
   },
   "outputs": [],
   "source": [
    "a5= np.array([1,22,3])\n",
    "#in collab the default size of int is int64 i.e 8 bytes but in jupyter notebook it is int32 i.e 4 bytes"
   ]
  },
  {
   "cell_type": "code",
   "execution_count": 25,
   "id": "5d83c79e",
   "metadata": {
    "ExecuteTime": {
     "end_time": "2023-07-23T16:36:26.483636Z",
     "start_time": "2023-07-23T16:36:26.462648Z"
    }
   },
   "outputs": [
    {
     "name": "stdout",
     "output_type": "stream",
     "text": [
      "[[ 1  4  9]\n",
      " [16 25 36]]\n"
     ]
    },
    {
     "data": {
      "text/plain": [
       "array([[0.5, 1. , 1.5],\n",
       "       [2. , 2.5, 3. ]])"
      ]
     },
     "execution_count": 25,
     "metadata": {},
     "output_type": "execute_result"
    }
   ],
   "source": [
    "#scalar operation\n",
    "#arithematic\n",
    "print(a2 ** 2)\n",
    "a2/2"
   ]
  },
  {
   "cell_type": "code",
   "execution_count": 26,
   "id": "026179c5",
   "metadata": {
    "ExecuteTime": {
     "end_time": "2023-07-23T16:36:26.515496Z",
     "start_time": "2023-07-23T16:36:26.494700Z"
    }
   },
   "outputs": [
    {
     "data": {
      "text/plain": [
       "array([[[ True,  True],\n",
       "        [False, False]],\n",
       "\n",
       "       [[ True,  True],\n",
       "        [False, False]]])"
      ]
     },
     "execution_count": 26,
     "metadata": {},
     "output_type": "execute_result"
    }
   ],
   "source": [
    "#relational \n",
    "a3<3"
   ]
  },
  {
   "cell_type": "code",
   "execution_count": 27,
   "id": "65d7b976",
   "metadata": {
    "ExecuteTime": {
     "end_time": "2023-07-23T16:36:26.531652Z",
     "start_time": "2023-07-23T16:36:26.525613Z"
    }
   },
   "outputs": [
    {
     "name": "stdout",
     "output_type": "stream",
     "text": [
      "[[2 4 6]\n",
      " [5 7 9]]\n",
      "[[ 1  4  9]\n",
      " [ 4 10 18]]\n",
      "[[  1   4  27]\n",
      " [  1  32 729]]\n"
     ]
    }
   ],
   "source": [
    "#vector operation\n",
    "print(a1+a2)\n",
    "print(a1*a2)\n",
    "print(a1**a2)"
   ]
  },
  {
   "cell_type": "code",
   "execution_count": 28,
   "id": "68de73ff",
   "metadata": {
    "ExecuteTime": {
     "end_time": "2023-07-23T16:36:26.563581Z",
     "start_time": "2023-07-23T16:36:26.557101Z"
    }
   },
   "outputs": [
    {
     "name": "stdout",
     "output_type": "stream",
     "text": [
      "4\n",
      "1\n",
      "1152\n",
      "21\n"
     ]
    }
   ],
   "source": [
    "#aggregate operation\n",
    "print(np.max(a3))\n",
    "print(np.min(a3))\n",
    "print(np.product(a3))\n",
    "print(np.sum(a3))"
   ]
  },
  {
   "cell_type": "code",
   "execution_count": 29,
   "id": "5d844977",
   "metadata": {
    "ExecuteTime": {
     "end_time": "2023-07-23T16:36:26.610822Z",
     "start_time": "2023-07-23T16:36:26.595536Z"
    }
   },
   "outputs": [
    {
     "name": "stdout",
     "output_type": "stream",
     "text": [
      "[[3 4]\n",
      " [3 4]]\n",
      "[1 4]\n",
      "----------------\n",
      "[[2 2]\n",
      " [3 4]]\n",
      "[4 5 6]\n",
      "----------------\n",
      "[[3 8]\n",
      " [6 8]]\n"
     ]
    }
   ],
   "source": [
    "#axis \n",
    "#0->row 1->col\n",
    "print(np.max(a3,axis=1))\n",
    "print(np.min(a2,axis=1))\n",
    "print(\"----------------\")\n",
    "print(np.max(a3,axis=0))\n",
    "print(np.max(a2,axis=0))\n",
    "print(\"----------------\")\n",
    "print(np.prod(a3,axis=1))"
   ]
  },
  {
   "cell_type": "code",
   "execution_count": 30,
   "id": "ce532179",
   "metadata": {
    "ExecuteTime": {
     "end_time": "2023-07-23T16:36:26.641901Z",
     "start_time": "2023-07-23T16:36:26.623993Z"
    }
   },
   "outputs": [
    {
     "data": {
      "text/plain": [
       "array([[12, 13, 14],\n",
       "       [15, 16, 17],\n",
       "       [18, 19, 20]])"
      ]
     },
     "execution_count": 30,
     "metadata": {},
     "output_type": "execute_result"
    }
   ],
   "source": [
    "b1=np.array([[12,13,14],[15,16,17],[18,19,20]])\n",
    "b1"
   ]
  },
  {
   "cell_type": "code",
   "execution_count": 31,
   "id": "e47dc1a5",
   "metadata": {
    "ExecuteTime": {
     "end_time": "2023-07-23T16:36:26.673816Z",
     "start_time": "2023-07-23T16:36:26.658727Z"
    }
   },
   "outputs": [
    {
     "name": "stdout",
     "output_type": "stream",
     "text": [
      "[14 17 20]\n",
      "[12 15 18]\n",
      "----------------\n",
      "[18 19 20]\n",
      "[18 19 20]\n",
      "----------------\n",
      "[2184 4080 6840]\n",
      "[45 48 51]\n"
     ]
    }
   ],
   "source": [
    "print(np.max(b1,axis=1))\n",
    "print(np.min(b1,axis=1))\n",
    "print(\"----------------\")\n",
    "print(np.max(b1,axis=0))\n",
    "print(np.max(b1,axis=0))\n",
    "print(\"----------------\")\n",
    "print(np.prod(b1,axis=1))\n",
    "print(np.sum(b1,axis=0))"
   ]
  },
  {
   "cell_type": "code",
   "execution_count": 32,
   "id": "a0cda043",
   "metadata": {
    "ExecuteTime": {
     "end_time": "2023-07-23T16:36:26.704663Z",
     "start_time": "2023-07-23T16:36:26.690461Z"
    }
   },
   "outputs": [
    {
     "name": "stdout",
     "output_type": "stream",
     "text": [
      "[13. 16. 19.]\n",
      "[13. 16. 19.]\n",
      "[0.66666667 0.66666667 0.66666667]\n",
      "[0.81649658 0.81649658 0.81649658]\n"
     ]
    }
   ],
   "source": [
    "print(np.mean(b1,axis=1))\n",
    "print(np.median(b1,axis=1))\n",
    "print(np.var(b1,axis=1))\n",
    "print(np.std(b1,axis=1))"
   ]
  },
  {
   "cell_type": "code",
   "execution_count": 33,
   "id": "3038c15e",
   "metadata": {
    "ExecuteTime": {
     "end_time": "2023-07-23T16:36:26.735933Z",
     "start_time": "2023-07-23T16:36:26.722280Z"
    }
   },
   "outputs": [
    {
     "name": "stdout",
     "output_type": "stream",
     "text": [
      "[[ 0  1  2  3]\n",
      " [ 4  5  6  7]\n",
      " [ 8  9 10 11]]\n",
      "[[0 1 2]\n",
      " [3 4 5]]\n",
      "[[164 203 242 281]\n",
      " [200 248 296 344]\n",
      " [236 293 350 407]]\n",
      "[[20 23 26 29]\n",
      " [56 68 80 92]]\n"
     ]
    }
   ],
   "source": [
    "b3=np.arange(6).reshape(2,3)\n",
    "b2=np.arange(12).reshape(3,4)\n",
    "print(b2)\n",
    "print(b3)\n",
    "print(np.dot(b1,b2))\n",
    "print(np.dot(b3,b2))"
   ]
  },
  {
   "cell_type": "code",
   "execution_count": 34,
   "id": "769c7e63",
   "metadata": {
    "ExecuteTime": {
     "end_time": "2023-07-23T16:36:26.767631Z",
     "start_time": "2023-07-23T16:36:26.754572Z"
    }
   },
   "outputs": [
    {
     "name": "stdout",
     "output_type": "stream",
     "text": [
      "[[2.48490665 2.56494936 2.63905733]\n",
      " [2.7080502  2.77258872 2.83321334]\n",
      " [2.89037176 2.94443898 2.99573227]]\n",
      "[[1.62754791e+05 4.42413392e+05 1.20260428e+06]\n",
      " [3.26901737e+06 8.88611052e+06 2.41549528e+07]\n",
      " [6.56599691e+07 1.78482301e+08 4.85165195e+08]]\n"
     ]
    }
   ],
   "source": [
    "print(np.log(b1))\n",
    "print(np.exp(b1))"
   ]
  },
  {
   "cell_type": "code",
   "execution_count": 35,
   "id": "ff951c71",
   "metadata": {
    "ExecuteTime": {
     "end_time": "2023-07-23T16:36:26.797602Z",
     "start_time": "2023-07-23T16:36:26.787453Z"
    }
   },
   "outputs": [
    {
     "name": "stdout",
     "output_type": "stream",
     "text": [
      "[[27. 82. 26.]\n",
      " [19. 53. 15.]]\n",
      "[[70. 92. 12.]\n",
      " [55. 93. 70.]]\n",
      "[[26. 61. 94.]\n",
      " [35. 51. 51.]]\n"
     ]
    }
   ],
   "source": [
    "print(np.round(np.random.random((2,3))*100))\n",
    "print(np.floor(np.random.random((2,3))*100))\n",
    "print(np.ceil(np.random.random((2,3))*100))"
   ]
  },
  {
   "cell_type": "code",
   "execution_count": 36,
   "id": "09165559",
   "metadata": {
    "ExecuteTime": {
     "end_time": "2023-07-23T16:36:26.828931Z",
     "start_time": "2023-07-23T16:36:26.818582Z"
    }
   },
   "outputs": [
    {
     "data": {
      "text/plain": [
       "array([[[0, 1],\n",
       "        [2, 3]],\n",
       "\n",
       "       [[4, 5],\n",
       "        [6, 7]]])"
      ]
     },
     "execution_count": 36,
     "metadata": {},
     "output_type": "execute_result"
    }
   ],
   "source": [
    "#ingdexing and slicing\n",
    "a1=np.arange(8).reshape(2,2,2)\n",
    "a1"
   ]
  },
  {
   "cell_type": "code",
   "execution_count": 37,
   "id": "efc77988",
   "metadata": {
    "ExecuteTime": {
     "end_time": "2023-07-23T16:36:26.859961Z",
     "start_time": "2023-07-23T16:36:26.852064Z"
    }
   },
   "outputs": [
    {
     "name": "stdout",
     "output_type": "stream",
     "text": [
      "3\n",
      "7\n",
      "5\n",
      "4\n",
      "6\n"
     ]
    }
   ],
   "source": [
    "print(a1[0,1,1])\n",
    "print(a1[1,1,1])\n",
    "print(a1[1,0,1])\n",
    "print(a1[1,0,0])\n",
    "print(a1[1,1,0])"
   ]
  },
  {
   "cell_type": "code",
   "execution_count": 38,
   "id": "559edc55",
   "metadata": {
    "ExecuteTime": {
     "end_time": "2023-07-23T16:36:26.891598Z",
     "start_time": "2023-07-23T16:36:26.884588Z"
    }
   },
   "outputs": [
    {
     "data": {
      "text/plain": [
       "array([[12, 13, 14],\n",
       "       [15, 16, 17],\n",
       "       [18, 19, 20]])"
      ]
     },
     "execution_count": 38,
     "metadata": {},
     "output_type": "execute_result"
    }
   ],
   "source": [
    "#for 2D\n",
    "b1"
   ]
  },
  {
   "cell_type": "code",
   "execution_count": 39,
   "id": "f7ac3f0d",
   "metadata": {
    "ExecuteTime": {
     "end_time": "2023-07-23T16:36:26.937369Z",
     "start_time": "2023-07-23T16:36:26.917614Z"
    }
   },
   "outputs": [
    {
     "name": "stdout",
     "output_type": "stream",
     "text": [
      "[[16 17]\n",
      " [19 20]]\n"
     ]
    }
   ],
   "source": [
    "print(b1[1:,1:3])"
   ]
  },
  {
   "cell_type": "code",
   "execution_count": 40,
   "id": "70666262",
   "metadata": {
    "ExecuteTime": {
     "end_time": "2023-07-23T16:36:26.968762Z",
     "start_time": "2023-07-23T16:36:26.952474Z"
    }
   },
   "outputs": [
    {
     "data": {
      "text/plain": [
       "array([[ 0,  1,  2,  3],\n",
       "       [ 4,  5,  6,  7],\n",
       "       [ 8,  9, 10, 11]])"
      ]
     },
     "execution_count": 40,
     "metadata": {},
     "output_type": "execute_result"
    }
   ],
   "source": [
    "b2=np.arange(12).reshape(3,4)\n",
    "b2"
   ]
  },
  {
   "cell_type": "code",
   "execution_count": 41,
   "id": "480c09fd",
   "metadata": {
    "ExecuteTime": {
     "end_time": "2023-07-23T16:36:27.000223Z",
     "start_time": "2023-07-23T16:36:26.981820Z"
    }
   },
   "outputs": [
    {
     "data": {
      "text/plain": [
       "array([[ 0,  3],\n",
       "       [ 8, 11]])"
      ]
     },
     "execution_count": 41,
     "metadata": {},
     "output_type": "execute_result"
    }
   ],
   "source": [
    "b2[::2,::3]"
   ]
  },
  {
   "cell_type": "code",
   "execution_count": 42,
   "id": "38d44b16",
   "metadata": {
    "ExecuteTime": {
     "end_time": "2023-07-23T16:36:27.031638Z",
     "start_time": "2023-07-23T16:36:27.015296Z"
    }
   },
   "outputs": [
    {
     "data": {
      "text/plain": [
       "array([[ 1,  3],\n",
       "       [ 9, 11]])"
      ]
     },
     "execution_count": 42,
     "metadata": {},
     "output_type": "execute_result"
    }
   ],
   "source": [
    "b2[::2,1::2]"
   ]
  },
  {
   "cell_type": "code",
   "execution_count": 43,
   "id": "6d473e38",
   "metadata": {
    "ExecuteTime": {
     "end_time": "2023-07-23T16:36:27.062821Z",
     "start_time": "2023-07-23T16:36:27.049743Z"
    }
   },
   "outputs": [
    {
     "data": {
      "text/plain": [
       "array([4, 7])"
      ]
     },
     "execution_count": 43,
     "metadata": {},
     "output_type": "execute_result"
    }
   ],
   "source": [
    "b2[1,::3]"
   ]
  },
  {
   "cell_type": "code",
   "execution_count": 44,
   "id": "b9e52126",
   "metadata": {
    "ExecuteTime": {
     "end_time": "2023-07-23T16:36:27.092704Z",
     "start_time": "2023-07-23T16:36:27.082644Z"
    }
   },
   "outputs": [
    {
     "data": {
      "text/plain": [
       "array([[1, 2, 3],\n",
       "       [5, 6, 7]])"
      ]
     },
     "execution_count": 44,
     "metadata": {},
     "output_type": "execute_result"
    }
   ],
   "source": [
    "b2[:2,1:]"
   ]
  },
  {
   "cell_type": "code",
   "execution_count": 45,
   "id": "a9bfe5c3",
   "metadata": {
    "ExecuteTime": {
     "end_time": "2023-07-23T16:36:27.123867Z",
     "start_time": "2023-07-23T16:36:27.113536Z"
    }
   },
   "outputs": [
    {
     "data": {
      "text/plain": [
       "array([[[ 0,  1,  2],\n",
       "        [ 3,  4,  5],\n",
       "        [ 6,  7,  8]],\n",
       "\n",
       "       [[ 9, 10, 11],\n",
       "        [12, 13, 14],\n",
       "        [15, 16, 17]],\n",
       "\n",
       "       [[18, 19, 20],\n",
       "        [21, 22, 23],\n",
       "        [24, 25, 26]]])"
      ]
     },
     "execution_count": 45,
     "metadata": {},
     "output_type": "execute_result"
    }
   ],
   "source": [
    "#for 3D\n",
    "a3=np.arange(27).reshape(3,3,3)\n",
    "a3"
   ]
  },
  {
   "cell_type": "code",
   "execution_count": 46,
   "id": "e551ceda",
   "metadata": {
    "ExecuteTime": {
     "end_time": "2023-07-23T16:36:27.155353Z",
     "start_time": "2023-07-23T16:36:27.148298Z"
    }
   },
   "outputs": [
    {
     "name": "stdout",
     "output_type": "stream",
     "text": [
      "[[[ 0  1  2]\n",
      "  [ 3  4  5]\n",
      "  [ 6  7  8]]\n",
      "\n",
      " [[18 19 20]\n",
      "  [21 22 23]\n",
      "  [24 25 26]]]\n",
      "-----------------------\n",
      "[[ 3  4  5]\n",
      " [12 13 14]\n",
      " [21 22 23]]\n",
      "-----------------------\n",
      "[3 4 5]\n",
      "-----------------------\n",
      "[10 13 16]\n",
      "-----------------------\n",
      "[[22 23]\n",
      " [25 26]]\n",
      "-----------------------\n",
      "[[ 0  2]\n",
      " [18 20]]\n"
     ]
    }
   ],
   "source": [
    "print(a3[::2])\n",
    "print('-----------------------')\n",
    "print(a3[:,1,:])\n",
    "print('-----------------------')\n",
    "print(a3[0,1,:])\n",
    "print('-----------------------')\n",
    "print(a3[1,:,1])\n",
    "print('-----------------------')\n",
    "print(a3[-1,1:,1:])\n",
    "print('-----------------------')\n",
    "print(a3[::2,0,::2])"
   ]
  },
  {
   "cell_type": "code",
   "execution_count": 47,
   "id": "e15ce3c7",
   "metadata": {
    "ExecuteTime": {
     "end_time": "2023-07-23T16:36:27.202133Z",
     "start_time": "2023-07-23T16:36:27.180639Z"
    }
   },
   "outputs": [
    {
     "name": "stdout",
     "output_type": "stream",
     "text": [
      "0\n",
      "1\n",
      "2\n",
      "3\n",
      "4\n",
      "5\n",
      "6\n",
      "7\n",
      "8\n",
      "9\n",
      "10\n",
      "11\n",
      "--------------\n",
      "[[0 1 2]\n",
      " [3 4 5]\n",
      " [6 7 8]]\n",
      "[[ 9 10 11]\n",
      " [12 13 14]\n",
      " [15 16 17]]\n",
      "[[18 19 20]\n",
      " [21 22 23]\n",
      " [24 25 26]]\n",
      "--------------\n",
      "0\n",
      "1\n",
      "2\n",
      "3\n",
      "4\n",
      "5\n",
      "6\n",
      "7\n",
      "8\n",
      "9\n",
      "10\n",
      "11\n",
      "12\n",
      "13\n",
      "14\n",
      "15\n",
      "16\n",
      "17\n",
      "18\n",
      "19\n",
      "20\n",
      "21\n",
      "22\n",
      "23\n",
      "24\n",
      "25\n",
      "26\n"
     ]
    }
   ],
   "source": [
    "#iteration\n",
    "#for 1D array it will print as sequence\n",
    "a1=np.arange(12)\n",
    "for i in a1:\n",
    "    print(i)\n",
    "print('--------------')\n",
    "#here it will print in matrix format\n",
    "for i in a3:\n",
    "    print(i)\n",
    "print('--------------')\n",
    "#so in order to display like sequence in 1D array we use nditer which will convert any dimension array to 1D and \n",
    "#then displays in sequence\n",
    "for i in np.nditer(a3):\n",
    "    print(i)"
   ]
  },
  {
   "cell_type": "code",
   "execution_count": 48,
   "id": "25effb20",
   "metadata": {
    "ExecuteTime": {
     "end_time": "2023-07-23T16:36:27.233661Z",
     "start_time": "2023-07-23T16:36:27.211776Z"
    }
   },
   "outputs": [
    {
     "name": "stdout",
     "output_type": "stream",
     "text": [
      "[[ 0  1  2  3]\n",
      " [ 4  5  6  7]\n",
      " [ 8  9 10 11]]\n",
      "--------------\n",
      "another syntax of transpose\n",
      " [[ 0  4  8]\n",
      " [ 1  5  9]\n",
      " [ 2  6 10]\n",
      " [ 3  7 11]]\n",
      "--------------\n",
      "[[[ 0  9 18]\n",
      "  [ 3 12 21]\n",
      "  [ 6 15 24]]\n",
      "\n",
      " [[ 1 10 19]\n",
      "  [ 4 13 22]\n",
      "  [ 7 16 25]]\n",
      "\n",
      " [[ 2 11 20]\n",
      "  [ 5 14 23]\n",
      "  [ 8 17 26]]]\n"
     ]
    }
   ],
   "source": [
    "#transpose\n",
    "a4=np.arange(12).reshape(3,4)\n",
    "print(a4)\n",
    "print('--------------')\n",
    "print(\"another syntax of transpose\\n\",a4.T)\n",
    "print('--------------')\n",
    "print(np.transpose(a3))"
   ]
  },
  {
   "cell_type": "code",
   "execution_count": 49,
   "id": "102cdf70",
   "metadata": {
    "ExecuteTime": {
     "end_time": "2023-07-23T16:36:27.265496Z",
     "start_time": "2023-07-23T16:36:27.244706Z"
    }
   },
   "outputs": [
    {
     "data": {
      "text/plain": [
       "array([ 0,  1,  2,  3,  4,  5,  6,  7,  8,  9, 10, 11, 12, 13, 14, 15, 16,\n",
       "       17, 18, 19, 20, 21, 22, 23, 24, 25, 26])"
      ]
     },
     "execution_count": 49,
     "metadata": {},
     "output_type": "execute_result"
    }
   ],
   "source": [
    "#ravel : coverts any dimension array to 1D array without for loop\n",
    "a3.ravel()\n"
   ]
  },
  {
   "cell_type": "code",
   "execution_count": 50,
   "id": "b4b6de50",
   "metadata": {
    "ExecuteTime": {
     "end_time": "2023-07-23T16:36:27.295840Z",
     "start_time": "2023-07-23T16:36:27.276642Z"
    }
   },
   "outputs": [
    {
     "name": "stdout",
     "output_type": "stream",
     "text": [
      "[[0 1]\n",
      " [2 3]\n",
      " [4 5]\n",
      " [6 7]\n",
      " [8 9]] \n",
      "\n",
      " [[11 12]\n",
      " [13 14]\n",
      " [15 16]\n",
      " [17 18]\n",
      " [19 20]]\n",
      "-----------------\n",
      "[[ 0  1 11 12]\n",
      " [ 2  3 13 14]\n",
      " [ 4  5 15 16]\n",
      " [ 6  7 17 18]\n",
      " [ 8  9 19 20]]\n",
      "-----------------\n",
      "[[ 0  1]\n",
      " [ 2  3]\n",
      " [ 4  5]\n",
      " [ 6  7]\n",
      " [ 8  9]\n",
      " [11 12]\n",
      " [13 14]\n",
      " [15 16]\n",
      " [17 18]\n",
      " [19 20]]\n"
     ]
    }
   ],
   "source": [
    "#stacking horizontal and vertical\n",
    "s1=np.arange(10).reshape(5,2)\n",
    "s2=np.arange(11,21).reshape(5,2)\n",
    "print(s1,\"\\n\\n\",s2)\n",
    "print('-----------------')\n",
    "print(np.hstack((s1,s2)))\n",
    "print('-----------------')\n",
    "print(np.vstack((s1,s2)))"
   ]
  },
  {
   "cell_type": "code",
   "execution_count": 51,
   "id": "b28e8c89",
   "metadata": {
    "ExecuteTime": {
     "end_time": "2023-07-23T16:36:27.327591Z",
     "start_time": "2023-07-23T16:36:27.309727Z"
    }
   },
   "outputs": [
    {
     "name": "stdout",
     "output_type": "stream",
     "text": [
      "[[ 0  1]\n",
      " [ 2  3]\n",
      " [ 4  5]\n",
      " [ 6  7]\n",
      " [ 8  9]\n",
      " [11 12]\n",
      " [13 14]\n",
      " [15 16]\n",
      " [17 18]\n",
      " [19 20]]\n",
      "------------------------------\n",
      "[array([[0, 1],\n",
      "       [2, 3],\n",
      "       [4, 5],\n",
      "       [6, 7],\n",
      "       [8, 9]]), array([[11, 12],\n",
      "       [13, 14],\n",
      "       [15, 16],\n",
      "       [17, 18],\n",
      "       [19, 20]])]\n",
      "------------------------------\n"
     ]
    },
    {
     "data": {
      "text/plain": [
       "[array([[0, 1],\n",
       "        [2, 3],\n",
       "        [4, 5],\n",
       "        [6, 7],\n",
       "        [8, 9]]),\n",
       " array([[11, 12],\n",
       "        [13, 14],\n",
       "        [15, 16],\n",
       "        [17, 18],\n",
       "        [19, 20]])]"
      ]
     },
     "execution_count": 51,
     "metadata": {},
     "output_type": "execute_result"
    }
   ],
   "source": [
    "#splitting Horizontal and vertical splitting\n",
    "s3=np.hstack((s1,s2))\n",
    "s4=np.vstack((s1,s2))\n",
    "print(s4)\n",
    "print('------------------------------')\n",
    "s5=np.hsplit(s3,2)\n",
    "print(s5)\n",
    "print('------------------------------')\n",
    "#vsplit for this s3 won't happen bcz it has 3 rows and wouldn't divide \n",
    "s6=np.arange(12).reshape(4,3)\n",
    "np.vsplit(s4,2)"
   ]
  }
 ],
 "metadata": {
  "kernelspec": {
   "display_name": "Python 3 (ipykernel)",
   "language": "python",
   "name": "python3"
  },
  "language_info": {
   "codemirror_mode": {
    "name": "ipython",
    "version": 3
   },
   "file_extension": ".py",
   "mimetype": "text/x-python",
   "name": "python",
   "nbconvert_exporter": "python",
   "pygments_lexer": "ipython3",
   "version": "3.9.13"
  },
  "toc": {
   "base_numbering": 1,
   "nav_menu": {},
   "number_sections": true,
   "sideBar": true,
   "skip_h1_title": false,
   "title_cell": "Table of Contents",
   "title_sidebar": "Contents",
   "toc_cell": false,
   "toc_position": {},
   "toc_section_display": true,
   "toc_window_display": false
  }
 },
 "nbformat": 4,
 "nbformat_minor": 5
}
